{
 "cells": [
  {
   "cell_type": "markdown",
   "metadata": {},
   "source": [
    "# Deliverable 3. Create a Travel Itinerary Map.\n",
    "----\n",
    "1. Import the vacation CSV file. \n",
    "2. From the map above with pick 4 cities that are in close proximity (on the same continent) that the customer would travel to and create a directions layer map.\n",
    "3. For the \"travel_mode\" use either \"DRIVING\", \"BICYCLING\", or \"WALKING\".\n",
    "4. Take a screenshot of the route and save it. \n",
    "5. Then create a marker layer for the four cities. Each city will should have a pop-up marker that contains\n",
    "    - The hotel name\n",
    "    - The city\n",
    "    - The country\n",
    "    - The current weather description and the maximum temperature\n",
    "---"
   ]
  },
  {
   "cell_type": "markdown",
   "metadata": {},
   "source": [
    "## Make sure the initial dependencies and the Google API key are imported."
   ]
  },
  {
   "cell_type": "code",
   "execution_count": 1,
   "metadata": {},
   "outputs": [],
   "source": [
    "# Dependencies and Setup\n",
    "import pandas as pd\n",
    "import requests\n",
    "import gmaps\n",
    "\n",
    "# Import API key\n",
    "from config import g_key"
   ]
  },
  {
   "cell_type": "code",
   "execution_count": 2,
   "metadata": {},
   "outputs": [],
   "source": [
    "# Configure gmaps\n",
    "gmaps.configure(api_key=g_key)"
   ]
  },
  {
   "cell_type": "markdown",
   "metadata": {},
   "source": [
    "## From your `Vacation_Search` folder from Deliverable 2, import the `WeatherPy_vacation.csv` file as a DataFrame named `vacation_df`"
   ]
  },
  {
   "cell_type": "code",
   "execution_count": 3,
   "metadata": {},
   "outputs": [
    {
     "data": {
      "text/html": [
       "<div>\n",
       "<style scoped>\n",
       "    .dataframe tbody tr th:only-of-type {\n",
       "        vertical-align: middle;\n",
       "    }\n",
       "\n",
       "    .dataframe tbody tr th {\n",
       "        vertical-align: top;\n",
       "    }\n",
       "\n",
       "    .dataframe thead th {\n",
       "        text-align: right;\n",
       "    }\n",
       "</style>\n",
       "<table border=\"1\" class=\"dataframe\">\n",
       "  <thead>\n",
       "    <tr style=\"text-align: right;\">\n",
       "      <th></th>\n",
       "      <th>City_ID</th>\n",
       "      <th>City</th>\n",
       "      <th>Country</th>\n",
       "      <th>Max Temp</th>\n",
       "      <th>Current Description</th>\n",
       "      <th>Lat</th>\n",
       "      <th>Lng</th>\n",
       "      <th>Hotel Name</th>\n",
       "    </tr>\n",
       "  </thead>\n",
       "  <tbody>\n",
       "    <tr>\n",
       "      <th>0</th>\n",
       "      <td>1</td>\n",
       "      <td>Punta Arenas</td>\n",
       "      <td>CL</td>\n",
       "      <td>48.31</td>\n",
       "      <td>clear sky</td>\n",
       "      <td>-53.1500</td>\n",
       "      <td>-70.9167</td>\n",
       "      <td>Hotel Hain</td>\n",
       "    </tr>\n",
       "    <tr>\n",
       "      <th>1</th>\n",
       "      <td>4</td>\n",
       "      <td>Westport</td>\n",
       "      <td>US</td>\n",
       "      <td>43.75</td>\n",
       "      <td>clear sky</td>\n",
       "      <td>41.1415</td>\n",
       "      <td>-73.3579</td>\n",
       "      <td>The Westport Inn</td>\n",
       "    </tr>\n",
       "    <tr>\n",
       "      <th>2</th>\n",
       "      <td>9</td>\n",
       "      <td>Ketchikan</td>\n",
       "      <td>US</td>\n",
       "      <td>41.47</td>\n",
       "      <td>clear sky</td>\n",
       "      <td>55.3422</td>\n",
       "      <td>-131.6461</td>\n",
       "      <td>Snow's Cove Lodge</td>\n",
       "    </tr>\n",
       "    <tr>\n",
       "      <th>3</th>\n",
       "      <td>10</td>\n",
       "      <td>Misawa</td>\n",
       "      <td>JP</td>\n",
       "      <td>45.61</td>\n",
       "      <td>broken clouds</td>\n",
       "      <td>40.6836</td>\n",
       "      <td>141.3597</td>\n",
       "      <td>Hoshino Resorts Aomoriya</td>\n",
       "    </tr>\n",
       "    <tr>\n",
       "      <th>4</th>\n",
       "      <td>16</td>\n",
       "      <td>Bredasdorp</td>\n",
       "      <td>ZA</td>\n",
       "      <td>55.26</td>\n",
       "      <td>overcast clouds</td>\n",
       "      <td>-34.5322</td>\n",
       "      <td>20.0403</td>\n",
       "      <td>Bredasdorp Country Manor</td>\n",
       "    </tr>\n",
       "    <tr>\n",
       "      <th>...</th>\n",
       "      <td>...</td>\n",
       "      <td>...</td>\n",
       "      <td>...</td>\n",
       "      <td>...</td>\n",
       "      <td>...</td>\n",
       "      <td>...</td>\n",
       "      <td>...</td>\n",
       "      <td>...</td>\n",
       "    </tr>\n",
       "    <tr>\n",
       "      <th>148</th>\n",
       "      <td>681</td>\n",
       "      <td>Sayyan</td>\n",
       "      <td>YE</td>\n",
       "      <td>52.12</td>\n",
       "      <td>clear sky</td>\n",
       "      <td>15.1718</td>\n",
       "      <td>44.3244</td>\n",
       "      <td>متنزه و بحيرة سيان</td>\n",
       "    </tr>\n",
       "    <tr>\n",
       "      <th>149</th>\n",
       "      <td>685</td>\n",
       "      <td>Viedma</td>\n",
       "      <td>AR</td>\n",
       "      <td>56.93</td>\n",
       "      <td>clear sky</td>\n",
       "      <td>-40.8135</td>\n",
       "      <td>-62.9967</td>\n",
       "      <td>Hotel Cristal</td>\n",
       "    </tr>\n",
       "    <tr>\n",
       "      <th>150</th>\n",
       "      <td>690</td>\n",
       "      <td>Pecos</td>\n",
       "      <td>US</td>\n",
       "      <td>44.31</td>\n",
       "      <td>broken clouds</td>\n",
       "      <td>31.4229</td>\n",
       "      <td>-103.4932</td>\n",
       "      <td>Knights Inn &amp; Suites Pecos Northeast</td>\n",
       "    </tr>\n",
       "    <tr>\n",
       "      <th>151</th>\n",
       "      <td>693</td>\n",
       "      <td>Tsubame</td>\n",
       "      <td>JP</td>\n",
       "      <td>54.84</td>\n",
       "      <td>overcast clouds</td>\n",
       "      <td>37.6500</td>\n",
       "      <td>138.9333</td>\n",
       "      <td>Hotel Route Inn Tsubamesanjo Ekimae</td>\n",
       "    </tr>\n",
       "    <tr>\n",
       "      <th>152</th>\n",
       "      <td>704</td>\n",
       "      <td>Emborion</td>\n",
       "      <td>GR</td>\n",
       "      <td>51.30</td>\n",
       "      <td>overcast clouds</td>\n",
       "      <td>40.4833</td>\n",
       "      <td>21.5500</td>\n",
       "      <td>Villa Kastanodasos</td>\n",
       "    </tr>\n",
       "  </tbody>\n",
       "</table>\n",
       "<p>153 rows × 8 columns</p>\n",
       "</div>"
      ],
      "text/plain": [
       "     City_ID          City Country  Max Temp Current Description      Lat  \\\n",
       "0          1  Punta Arenas      CL     48.31           clear sky -53.1500   \n",
       "1          4      Westport      US     43.75           clear sky  41.1415   \n",
       "2          9     Ketchikan      US     41.47           clear sky  55.3422   \n",
       "3         10        Misawa      JP     45.61       broken clouds  40.6836   \n",
       "4         16    Bredasdorp      ZA     55.26     overcast clouds -34.5322   \n",
       "..       ...           ...     ...       ...                 ...      ...   \n",
       "148      681        Sayyan      YE     52.12           clear sky  15.1718   \n",
       "149      685        Viedma      AR     56.93           clear sky -40.8135   \n",
       "150      690         Pecos      US     44.31       broken clouds  31.4229   \n",
       "151      693       Tsubame      JP     54.84     overcast clouds  37.6500   \n",
       "152      704      Emborion      GR     51.30     overcast clouds  40.4833   \n",
       "\n",
       "          Lng                            Hotel Name  \n",
       "0    -70.9167                            Hotel Hain  \n",
       "1    -73.3579                      The Westport Inn  \n",
       "2   -131.6461                     Snow's Cove Lodge  \n",
       "3    141.3597              Hoshino Resorts Aomoriya  \n",
       "4     20.0403              Bredasdorp Country Manor  \n",
       "..        ...                                   ...  \n",
       "148   44.3244                    متنزه و بحيرة سيان  \n",
       "149  -62.9967                         Hotel Cristal  \n",
       "150 -103.4932  Knights Inn & Suites Pecos Northeast  \n",
       "151  138.9333   Hotel Route Inn Tsubamesanjo Ekimae  \n",
       "152   21.5500                    Villa Kastanodasos  \n",
       "\n",
       "[153 rows x 8 columns]"
      ]
     },
     "execution_count": 3,
     "metadata": {},
     "output_type": "execute_result"
    }
   ],
   "source": [
    "# Read the WeatherPy_vacation.csv into a DataFrame\n",
    "vacation_df = pd.read_csv(\"../Vacation_Search/WeatherPy_vacation.csv\")\n",
    "\n",
    "# Display sample data\n",
    "vacation_df"
   ]
  },
  {
   "cell_type": "markdown",
   "metadata": {},
   "source": [
    "**Note:** If the resulting DataFrame is empty, uncomment the following code to load sample data into the `clean_hotel_df`."
   ]
  },
  {
   "cell_type": "code",
   "execution_count": 4,
   "metadata": {},
   "outputs": [],
   "source": [
    "# In case of an empty DataFrame, load the sample data provided\n",
    "# clean_hotel_df = pd.read_csv(\"WeatherPy_vacation-backup.csv\")\n",
    "# clean_hotel_df.head(10)"
   ]
  },
  {
   "cell_type": "markdown",
   "metadata": {
    "tags": []
   },
   "source": [
    "## In this step, you will set-up the pop-up markers. Review the code to create a marker layer map of the vacation search results. This code is the same as in Deliverable 2."
   ]
  },
  {
   "cell_type": "code",
   "execution_count": 5,
   "metadata": {},
   "outputs": [],
   "source": [
    "# Review the formatting template\n",
    "info_box_template = \"\"\"\n",
    "<dl>\n",
    "<dt>Hotel Name</dt><dd>{Hotel Name}</dd>\n",
    "<dt>City</dt><dd>{City}</dd>\n",
    "<dt>Country</dt><dd>{Country}</dd>\n",
    "<dt>Current Weather</dt><dd>{Current Description} and {Max Temp} °F</dd>\n",
    "</dl>\n",
    "\"\"\"\n",
    "\n",
    "# Get the data from each row and add it to the formatting template and store the data in a list\n",
    "hotel_info = [info_box_template.format(**row) for index, row in vacation_df.iterrows()]\n",
    "\n",
    "# Get the latitude and longitude from each row and store in a new DataFrame.\n",
    "locations = vacation_df[[\"Lat\", \"Lng\"]]"
   ]
  },
  {
   "cell_type": "code",
   "execution_count": 6,
   "metadata": {},
   "outputs": [
    {
     "data": {
      "application/vnd.jupyter.widget-view+json": {
       "model_id": "9ea0c3fbadd14799813f6734b34f77a4",
       "version_major": 2,
       "version_minor": 0
      },
      "text/plain": [
       "Figure(layout=FigureLayout(height='420px'))"
      ]
     },
     "metadata": {},
     "output_type": "display_data"
    }
   ],
   "source": [
    "# Add a marker layer for each city to the map.\n",
    "marker_layer = gmaps.marker_layer(locations, info_box_content=hotel_info)\n",
    "fig = gmaps.figure()\n",
    "fig.add_layer(marker_layer)\n",
    "\n",
    "# Display the figure\n",
    "fig"
   ]
  },
  {
   "cell_type": "markdown",
   "metadata": {},
   "source": [
    "## From the vacation search map, *choose four cities* that a customer might want to visit. They should be close together and in the same country."
   ]
  },
  {
   "cell_type": "code",
   "execution_count": 12,
   "metadata": {},
   "outputs": [],
   "source": [
    "# Create DataFrames for each city by filtering the 'vacation_df' using the loc method. \n",
    "# The starting and ending city should be the same city.\n",
    "vacation_start =   vacation_df.loc[vacation_df[\"City\"] == \"Misawa\"]\n",
    "vacation_end = vacation_df.loc[vacation_df[\"City\"] == \"Misawa\"]\n",
    "vacation_stop1 = vacation_df.loc[vacation_df[\"City\"] == \"Iwanai\"]\n",
    "vacation_stop2 =  vacation_df.loc[vacation_df[\"City\"] == \"Ishinomaki\"]\n",
    "vacation_stop3 =  vacation_df.loc[vacation_df[\"City\"] == \"Sagae\"]"
   ]
  },
  {
   "cell_type": "markdown",
   "metadata": {},
   "source": [
    "## Use the `to_numpy()` function and list indexing to write code to retrieve the latitude-longitude pairs as tuples from each city DataFrame."
   ]
  },
  {
   "cell_type": "code",
   "execution_count": 23,
   "metadata": {},
   "outputs": [],
   "source": [
    "# Get the latitude-longitude pairs as tuples from each city DataFrame using the to_numpy function and list indexing.\n",
    "start = vacation_start[[\"Lat\", \"Lng\"]].to_numpy()[0]\n",
    "end = vacation_end[[\"Lat\", \"Lng\"]].to_numpy()[0]\n",
    "stop1 = vacation_stop1[[\"Lat\", \"Lng\"]].to_numpy()[0]\n",
    "stop2 = vacation_stop2[[\"Lat\", \"Lng\"]].to_numpy()[0]\n",
    "stop3 = vacation_stop3[[\"Lat\", \"Lng\"]].to_numpy()[0]"
   ]
  },
  {
   "cell_type": "code",
   "execution_count": 24,
   "metadata": {},
   "outputs": [
    {
     "name": "stdout",
     "output_type": "stream",
     "text": [
      "[ 40.6836 141.3597]\n"
     ]
    }
   ],
   "source": [
    "print(start)"
   ]
  },
  {
   "cell_type": "code",
   "execution_count": 25,
   "metadata": {},
   "outputs": [
    {
     "name": "stdout",
     "output_type": "stream",
     "text": [
      "[ 40.6836 141.3597]\n"
     ]
    }
   ],
   "source": [
    "print(end)"
   ]
  },
  {
   "cell_type": "code",
   "execution_count": 26,
   "metadata": {},
   "outputs": [
    {
     "name": "stdout",
     "output_type": "stream",
     "text": [
      "[ 42.9744 140.5089]\n"
     ]
    }
   ],
   "source": [
    "print(stop1)"
   ]
  },
  {
   "cell_type": "code",
   "execution_count": 27,
   "metadata": {},
   "outputs": [
    {
     "name": "stdout",
     "output_type": "stream",
     "text": [
      "[ 38.4167 141.3   ]\n"
     ]
    }
   ],
   "source": [
    "print(stop2)"
   ]
  },
  {
   "cell_type": "code",
   "execution_count": 28,
   "metadata": {},
   "outputs": [
    {
     "name": "stdout",
     "output_type": "stream",
     "text": [
      "[ 38.3725 140.2725]\n"
     ]
    }
   ],
   "source": [
    "print(stop3)"
   ]
  },
  {
   "cell_type": "markdown",
   "metadata": {},
   "source": [
    "## Use the [gmaps documentation](https://jupyter-gmaps.readthedocs.io/en/latest/tutorial.html#directions-layer) to create a directions layer map using the variables from the previous step. Where the starting and ending city are the same city, the `waypoints` are the three other cities, and the `travel_mode` is either `\"DRIVING\"`, `\"BICYCLING\"`, or `\"WALKING\"`."
   ]
  },
  {
   "cell_type": "code",
   "execution_count": 29,
   "metadata": {
    "tags": []
   },
   "outputs": [
    {
     "data": {
      "application/vnd.jupyter.widget-view+json": {
       "model_id": "5afe1573643e4850931d2af4c834ad9d",
       "version_major": 2,
       "version_minor": 0
      },
      "text/plain": [
       "Figure(layout=FigureLayout(height='420px'))"
      ]
     },
     "metadata": {},
     "output_type": "display_data"
    }
   ],
   "source": [
    "# Define a new figure object\n",
    "fig = gmaps.figure()\n",
    "\n",
    "# Create a direction layer map using the start and end latitude-longitude pairs, and stop1, stop2, and stop3 as the waypoints.\n",
    "# The travel_mode should be \"DRIVING\", \"BICYCLING\", or \"WALKING\".\n",
    "vacation_itinerary = gmaps.directions_layer(start, end, waypoints=[stop1,stop2,stop3], travel_mode= \"DRIVING\")\n",
    "# Add the layer to the map\n",
    "fig.add_layer(vacation_itinerary)\n",
    "\n",
    "# Display the map\n",
    "fig"
   ]
  },
  {
   "cell_type": "markdown",
   "metadata": {},
   "source": [
    "## Use the provided `concat()` function code snippet to combine the four separate city DataFrames into one DataFrame."
   ]
  },
  {
   "cell_type": "code",
   "execution_count": 30,
   "metadata": {},
   "outputs": [
    {
     "data": {
      "text/html": [
       "<div>\n",
       "<style scoped>\n",
       "    .dataframe tbody tr th:only-of-type {\n",
       "        vertical-align: middle;\n",
       "    }\n",
       "\n",
       "    .dataframe tbody tr th {\n",
       "        vertical-align: top;\n",
       "    }\n",
       "\n",
       "    .dataframe thead th {\n",
       "        text-align: right;\n",
       "    }\n",
       "</style>\n",
       "<table border=\"1\" class=\"dataframe\">\n",
       "  <thead>\n",
       "    <tr style=\"text-align: right;\">\n",
       "      <th></th>\n",
       "      <th>City_ID</th>\n",
       "      <th>City</th>\n",
       "      <th>Country</th>\n",
       "      <th>Max Temp</th>\n",
       "      <th>Current Description</th>\n",
       "      <th>Lat</th>\n",
       "      <th>Lng</th>\n",
       "      <th>Hotel Name</th>\n",
       "    </tr>\n",
       "  </thead>\n",
       "  <tbody>\n",
       "    <tr>\n",
       "      <th>0</th>\n",
       "      <td>10</td>\n",
       "      <td>Misawa</td>\n",
       "      <td>JP</td>\n",
       "      <td>45.61</td>\n",
       "      <td>broken clouds</td>\n",
       "      <td>40.6836</td>\n",
       "      <td>141.3597</td>\n",
       "      <td>Hoshino Resorts Aomoriya</td>\n",
       "    </tr>\n",
       "    <tr>\n",
       "      <th>1</th>\n",
       "      <td>459</td>\n",
       "      <td>Iwanai</td>\n",
       "      <td>JP</td>\n",
       "      <td>41.20</td>\n",
       "      <td>light rain</td>\n",
       "      <td>42.9744</td>\n",
       "      <td>140.5089</td>\n",
       "      <td>いわない高原ホテル</td>\n",
       "    </tr>\n",
       "    <tr>\n",
       "      <th>2</th>\n",
       "      <td>215</td>\n",
       "      <td>Ishinomaki</td>\n",
       "      <td>JP</td>\n",
       "      <td>53.60</td>\n",
       "      <td>broken clouds</td>\n",
       "      <td>38.4167</td>\n",
       "      <td>141.3000</td>\n",
       "      <td>Ishinomaki Grand Hotel</td>\n",
       "    </tr>\n",
       "    <tr>\n",
       "      <th>3</th>\n",
       "      <td>102</td>\n",
       "      <td>Sagae</td>\n",
       "      <td>JP</td>\n",
       "      <td>51.78</td>\n",
       "      <td>broken clouds</td>\n",
       "      <td>38.3725</td>\n",
       "      <td>140.2725</td>\n",
       "      <td>Hotel Symphony</td>\n",
       "    </tr>\n",
       "  </tbody>\n",
       "</table>\n",
       "</div>"
      ],
      "text/plain": [
       "   City_ID        City Country  Max Temp Current Description      Lat  \\\n",
       "0       10      Misawa      JP     45.61       broken clouds  40.6836   \n",
       "1      459      Iwanai      JP     41.20          light rain  42.9744   \n",
       "2      215  Ishinomaki      JP     53.60       broken clouds  38.4167   \n",
       "3      102       Sagae      JP     51.78       broken clouds  38.3725   \n",
       "\n",
       "        Lng                Hotel Name  \n",
       "0  141.3597  Hoshino Resorts Aomoriya  \n",
       "1  140.5089                 いわない高原ホテル  \n",
       "2  141.3000    Ishinomaki Grand Hotel  \n",
       "3  140.2725            Hotel Symphony  "
      ]
     },
     "execution_count": 30,
     "metadata": {},
     "output_type": "execute_result"
    }
   ],
   "source": [
    "#  Combine the four city DataFrames into one DataFrame using the concat() function.\n",
    "itinerary_df = pd.concat(\n",
    "    [\n",
    "        vacation_start,\n",
    "        vacation_stop1,\n",
    "        vacation_stop2,\n",
    "        vacation_stop3\n",
    "    ],\n",
    "    ignore_index = True\n",
    ")\n",
    "\n",
    "# Display sample data\n",
    "itinerary_df"
   ]
  },
  {
   "cell_type": "markdown",
   "metadata": {},
   "source": [
    "## Refactor the code from Step 6 to create a new marker layer map of the cities on the travel route."
   ]
  },
  {
   "cell_type": "code",
   "execution_count": 31,
   "metadata": {},
   "outputs": [],
   "source": [
    "# Review the formatting template\n",
    "info_box_template = \"\"\"\n",
    "<dl>\n",
    "<dt>Hotel Name</dt><dd>{Hotel Name}</dd>\n",
    "<dt>City</dt><dd>{City}</dd>\n",
    "<dt>Country</dt><dd>{Country}</dd>\n",
    "<dt>Current Weather</dt><dd>{Current Description} and {Max Temp} °F</dd>\n",
    "</dl>\n",
    "\"\"\"\n",
    "\n",
    "# Get the data from each row and add it to the formatting template and store the data in a list\n",
    "hotel_info = [info_box_template.format(**row) for index, row in itinerary_df.iterrows()]\n",
    "\n",
    "# Get the latitude and longitude from each row and store in a new DataFrame.\n",
    "locations = itinerary_df[[\"Lat\", \"Lng\"]]"
   ]
  },
  {
   "cell_type": "code",
   "execution_count": 32,
   "metadata": {},
   "outputs": [
    {
     "data": {
      "application/vnd.jupyter.widget-view+json": {
       "model_id": "f8e768bd9cab43049603f526c75fa85a",
       "version_major": 2,
       "version_minor": 0
      },
      "text/plain": [
       "Figure(layout=FigureLayout(height='420px'))"
      ]
     },
     "metadata": {},
     "output_type": "display_data"
    }
   ],
   "source": [
    "# Add a marker layer for each city to the map.\n",
    "markers = gmaps.marker_layer(locations, info_box_content=hotel_info)\n",
    "\n",
    "\n",
    "# Define a new figure object\n",
    "fig = gmaps.figure()\n",
    "\n",
    "# Add the layer to the map\n",
    "fig.add_layer(markers)\n",
    "\n",
    "# Display the map\n",
    "fig"
   ]
  },
  {
   "cell_type": "code",
   "execution_count": null,
   "metadata": {},
   "outputs": [],
   "source": []
  }
 ],
 "metadata": {
  "kernelspec": {
   "display_name": "Python 3 (ipykernel)",
   "language": "python",
   "name": "python3"
  },
  "language_info": {
   "codemirror_mode": {
    "name": "ipython",
    "version": 3
   },
   "file_extension": ".py",
   "mimetype": "text/x-python",
   "name": "python",
   "nbconvert_exporter": "python",
   "pygments_lexer": "ipython3",
   "version": "3.9.12"
  },
  "latex_envs": {
   "LaTeX_envs_menu_present": true,
   "autoclose": false,
   "autocomplete": true,
   "bibliofile": "biblio.bib",
   "cite_by": "apalike",
   "current_citInitial": 1,
   "eqLabelWithNumbers": true,
   "eqNumInitial": 1,
   "hotkeys": {
    "equation": "Ctrl-E",
    "itemize": "Ctrl-I"
   },
   "labels_anchors": false,
   "latex_user_defs": false,
   "report_style_numbering": false,
   "user_envs_cfg": false
  },
  "vscode": {
   "interpreter": {
    "hash": "9d4864790b4a08056a74e151bf2add360e1735f36b9bbdd22787e5d381b7718b"
   }
  }
 },
 "nbformat": 4,
 "nbformat_minor": 4
}
